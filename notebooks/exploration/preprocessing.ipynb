{
 "cells": [
  {
   "cell_type": "code",
   "execution_count": 1,
   "metadata": {
    "vscode": {
     "languageId": "plaintext"
    }
   },
   "outputs": [],
   "source": [
    "from radburst.utils.dataset import Dataset\n",
    "import radburst.utils.preprocessing as prep\n",
    "import radburst.utils.utils as util\n",
    "import matplotlib.pyplot as plt\n",
    "import matplotlib.patches as patches\n",
    "from matplotlib.backends.backend_pdf import PdfPages\n",
    "import os\n",
    "\n",
    "\n",
    "data_path = '/mnt/c/Users/camer/OneDrive/Documents/radburst/data/Fitfiles'\n",
    "labels_path = '/mnt/c/Users/camer/OneDrive/Documents/radburst/data/labels/filtered-labels-20240309-20240701.csv'\n",
    "\n",
    "# Create a Dataset object which loads all data from the given path (defined in dataset.py)\n",
    "data = Dataset(data_dir= data_path,\n",
    "              labels= labels_path,\n",
    "              preprocess= prep.stan_rows_remove_verts)\n",
    "\n",
    "dataset_only_bursts = data.only_bursts()\n",
    "dataset_only_nonbursts = data.only_nonbursts()"
   ]
  },
  {
   "cell_type": "code",
   "execution_count": 2,
   "metadata": {},
   "outputs": [],
   "source": [
    "def process_fits(fits_path):\n",
    "    raw = util.load_fits_file(fits_path)\n",
    "    stan_rows = prep.stan_rows_remove_verts(raw)\n",
    "    stan_rows_blur = prep.blur(stan_rows)\n",
    "    binary_mask = prep.create_binary_mask(stan_rows_blur)\n",
    "    eroded_mask = prep.morph_ops(binary_mask)\n",
    "    filtered_largest_2_regions, filtered_mask = prep.filtered_components(eroded_mask)\n",
    "    #bboxes = filtered_comps.largest_2_bboxes()\n",
    "    \n",
    "    return {'raw': raw,\n",
    "            'stan_rows': stan_rows,\n",
    "            'stan_rows_blur': stan_rows_blur,\n",
    "            'binary_mask': binary_mask,\n",
    "            'eroded_mask': eroded_mask,\n",
    "            'filtered_mask': filtered_mask,\n",
    "            'filtered_regs': filtered_largest_2_regions}\n",
    "\n",
    "\n",
    "def create_preprocessing_steps_fig(fits_path):      \n",
    "    processed = process_fits(fits_path)\n",
    "    \n",
    "    fig, ax = plt.subplots(nrows=3, ncols=2, figsize=(10,10))\n",
    "    \n",
    "    path = fits_path.split('/')[1:][-1]\n",
    "\n",
    "    image_title = [(processed['raw'], f'File: {path}'),\n",
    "                   (processed['stan_rows_blur'], '1. Rows Standardized, Vertical Lines Removed, Blurred'),\n",
    "                   (processed['binary_mask'], '2. Binary Mask'),\n",
    "                   (processed['eroded_mask'], '3. Eroded Mask'),\n",
    "                   (processed['filtered_mask'], '4. Filtered Mask\\n(regions from 3 that meet criteria)'),\n",
    "                   (processed['stan_rows'], '5. Detection \\n(regions from 4 that meet criteria)')]\n",
    "                   \n",
    "                   \n",
    "    for i, (img, title) in enumerate(image_title):\n",
    "        row, col = i//2, i%2\n",
    "\n",
    "        if 'mask' in title.lower():\n",
    "            ax[row, col].imshow(img, aspect='auto', cmap='gray', vmin=0, vmax=1)\n",
    "        else:\n",
    "            ax[row, col].imshow(img, aspect='auto')\n",
    "\n",
    "        ax[row, col].set_title(title)\n",
    "        ax[row, col].set_axis_off()\n",
    "\n",
    "\n",
    "    for reg in processed['filtered_regs']:\n",
    "        \n",
    "        #min_row, min_col, max_row, max_col = bbox\n",
    "        height = reg.max_row - reg.min_row\n",
    "        width = reg.max_col - reg.min_col\n",
    "        x_min, y_min = reg.min_col, reg.min_row\n",
    "    \n",
    "        bounding_box = patches.Rectangle((x_min, y_min), width, height, linewidth=1, edgecolor='r', facecolor='none')\n",
    "        ax[2,1].add_patch(bounding_box)\n",
    "\n",
    "    plt.tight_layout()\n",
    "\n",
    "    return fig\n",
    "\n",
    "\n",
    "with PdfPages('preprocessing_detection_plots.pdf') as pdf:\n",
    "    for path_from_data_dir in dataset_only_bursts.paths:\n",
    "        full_fits_path = os.path.join(data_path, path_from_data_dir)\n",
    "        fig = create_preprocessing_steps_fig(fits_path=full_fits_path)\n",
    "        pdf.savefig(fig)\n",
    "        plt.close(fig)"
   ]
  },
  {
   "cell_type": "code",
   "execution_count": 5,
   "metadata": {},
   "outputs": [],
   "source": [
    "#for path_from_data_dir in dataset_only_bursts.paths:\n",
    "#    full_fits_path = os.path.join(data_path, path_from_data_dir)\n",
    "#    fig = create_preprocessing_steps_fig(fits_path=full_fits_path)\n",
    "#    plt.show()"
   ]
  },
  {
   "cell_type": "code",
   "execution_count": 6,
   "metadata": {},
   "outputs": [],
   "source": [
    "import random\n",
    "random.seed(42)\n",
    "\n",
    "num_samples = 25\n",
    "rand_sample_nonburst_paths = random.sample(list(dataset_only_nonbursts.paths), num_samples)\n",
    "\n",
    "#for path_from_data_dir in rand_sample_nonburst_paths:\n",
    "#    full_fits_path = os.path.join(data_path, path_from_data_dir)\n",
    "#    fig = create_preprocessing_steps_fig(fits_path=full_fits_path)\n",
    "#    plt.show()\n",
    "\n",
    "with PdfPages('preprocessing_detection_plots_nonbursts.pdf') as pdf:\n",
    "    for path_from_data_dir in rand_sample_nonburst_paths:\n",
    "        full_fits_path = os.path.join(data_path, path_from_data_dir)\n",
    "        fig = create_preprocessing_steps_fig(fits_path=full_fits_path)\n",
    "        pdf.savefig(fig)\n",
    "        plt.close(fig)"
   ]
  },
  {
   "cell_type": "code",
   "execution_count": null,
   "metadata": {},
   "outputs": [],
   "source": []
  },
  {
   "cell_type": "code",
   "execution_count": null,
   "metadata": {},
   "outputs": [],
   "source": []
  },
  {
   "cell_type": "code",
   "execution_count": null,
   "metadata": {},
   "outputs": [],
   "source": []
  }
 ],
 "metadata": {
  "kernelspec": {
   "display_name": "Python 3 (ipykernel)",
   "language": "python",
   "name": "python3"
  },
  "language_info": {
   "codemirror_mode": {
    "name": "ipython",
    "version": 3
   },
   "file_extension": ".py",
   "mimetype": "text/x-python",
   "name": "python",
   "nbconvert_exporter": "python",
   "pygments_lexer": "ipython3",
   "version": "3.10.12"
  }
 },
 "nbformat": 4,
 "nbformat_minor": 4
}
