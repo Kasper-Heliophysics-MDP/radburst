{
 "cells": [
  {
   "cell_type": "code",
   "execution_count": 1,
   "metadata": {},
   "outputs": [],
   "source": [
    "import pandas as pd"
   ]
  },
  {
   "cell_type": "code",
   "execution_count": 2,
   "metadata": {},
   "outputs": [
    {
     "data": {
      "text/plain": [
       "0      2024-01-20 12:15:07\n",
       "1      2024-01-20 12:38:00\n",
       "2      2024-01-20 12:53:00\n",
       "3      2024-01-20 13:08:00\n",
       "4      2024-01-21 14:17:00\n",
       "               ...        \n",
       "8486   2024-10-09 02:09:03\n",
       "8487   2024-10-09 02:24:03\n",
       "8488   2024-10-09 02:39:03\n",
       "8489   2024-10-09 02:54:03\n",
       "8490   2024-10-09 03:09:03\n",
       "Name: datetime, Length: 8491, dtype: datetime64[ns]"
      ]
     },
     "execution_count": 2,
     "metadata": {},
     "output_type": "execute_result"
    }
   ],
   "source": [
    "df = pd.read_csv('full-labels-20240120-20241009.csv')\n",
    "df['datetime'] = pd.to_datetime(df['datetime'])\n",
    "df['datetime']"
   ]
  },
  {
   "cell_type": "code",
   "execution_count": 3,
   "metadata": {},
   "outputs": [
    {
     "data": {
      "text/html": [
       "<div>\n",
       "<style scoped>\n",
       "    .dataframe tbody tr th:only-of-type {\n",
       "        vertical-align: middle;\n",
       "    }\n",
       "\n",
       "    .dataframe tbody tr th {\n",
       "        vertical-align: top;\n",
       "    }\n",
       "\n",
       "    .dataframe thead th {\n",
       "        text-align: right;\n",
       "    }\n",
       "</style>\n",
       "<table border=\"1\" class=\"dataframe\">\n",
       "  <thead>\n",
       "    <tr style=\"text-align: right;\">\n",
       "      <th></th>\n",
       "      <th>path</th>\n",
       "      <th>datetime</th>\n",
       "      <th>type</th>\n",
       "      <th>burst</th>\n",
       "    </tr>\n",
       "  </thead>\n",
       "  <tbody>\n",
       "    <tr>\n",
       "      <th>4351</th>\n",
       "      <td>2024-07-02/UMICH_20240702_063000_59.fit</td>\n",
       "      <td>2024-07-02 06:30:00</td>\n",
       "      <td>0</td>\n",
       "      <td>0</td>\n",
       "    </tr>\n",
       "    <tr>\n",
       "      <th>4352</th>\n",
       "      <td>2024-07-02/UMICH_20240702_064500_59.fit</td>\n",
       "      <td>2024-07-02 06:45:00</td>\n",
       "      <td>0</td>\n",
       "      <td>0</td>\n",
       "    </tr>\n",
       "    <tr>\n",
       "      <th>4353</th>\n",
       "      <td>2024-07-02/UMICH_20240702_070000_59.fit</td>\n",
       "      <td>2024-07-02 07:00:00</td>\n",
       "      <td>0</td>\n",
       "      <td>0</td>\n",
       "    </tr>\n",
       "    <tr>\n",
       "      <th>4354</th>\n",
       "      <td>2024-07-02/UMICH_20240702_071500_59.fit</td>\n",
       "      <td>2024-07-02 07:15:00</td>\n",
       "      <td>0</td>\n",
       "      <td>0</td>\n",
       "    </tr>\n",
       "    <tr>\n",
       "      <th>4355</th>\n",
       "      <td>2024-07-02/UMICH_20240702_073000_59.fit</td>\n",
       "      <td>2024-07-02 07:30:00</td>\n",
       "      <td>0</td>\n",
       "      <td>0</td>\n",
       "    </tr>\n",
       "    <tr>\n",
       "      <th>...</th>\n",
       "      <td>...</td>\n",
       "      <td>...</td>\n",
       "      <td>...</td>\n",
       "      <td>...</td>\n",
       "    </tr>\n",
       "    <tr>\n",
       "      <th>8486</th>\n",
       "      <td>2024-10-09/Beelink1_20241009_020903_01.fit</td>\n",
       "      <td>2024-10-09 02:09:03</td>\n",
       "      <td>0</td>\n",
       "      <td>0</td>\n",
       "    </tr>\n",
       "    <tr>\n",
       "      <th>8487</th>\n",
       "      <td>2024-10-09/Beelink1_20241009_022403_01.fit</td>\n",
       "      <td>2024-10-09 02:24:03</td>\n",
       "      <td>0</td>\n",
       "      <td>0</td>\n",
       "    </tr>\n",
       "    <tr>\n",
       "      <th>8488</th>\n",
       "      <td>2024-10-09/Beelink1_20241009_023903_01.fit</td>\n",
       "      <td>2024-10-09 02:39:03</td>\n",
       "      <td>0</td>\n",
       "      <td>0</td>\n",
       "    </tr>\n",
       "    <tr>\n",
       "      <th>8489</th>\n",
       "      <td>2024-10-09/Beelink1_20241009_025403_01.fit</td>\n",
       "      <td>2024-10-09 02:54:03</td>\n",
       "      <td>0</td>\n",
       "      <td>0</td>\n",
       "    </tr>\n",
       "    <tr>\n",
       "      <th>8490</th>\n",
       "      <td>2024-10-09/Beelink1_20241009_030903_01.fit</td>\n",
       "      <td>2024-10-09 03:09:03</td>\n",
       "      <td>0</td>\n",
       "      <td>0</td>\n",
       "    </tr>\n",
       "  </tbody>\n",
       "</table>\n",
       "<p>4140 rows × 4 columns</p>\n",
       "</div>"
      ],
      "text/plain": [
       "                                            path            datetime  type  \\\n",
       "4351     2024-07-02/UMICH_20240702_063000_59.fit 2024-07-02 06:30:00     0   \n",
       "4352     2024-07-02/UMICH_20240702_064500_59.fit 2024-07-02 06:45:00     0   \n",
       "4353     2024-07-02/UMICH_20240702_070000_59.fit 2024-07-02 07:00:00     0   \n",
       "4354     2024-07-02/UMICH_20240702_071500_59.fit 2024-07-02 07:15:00     0   \n",
       "4355     2024-07-02/UMICH_20240702_073000_59.fit 2024-07-02 07:30:00     0   \n",
       "...                                          ...                 ...   ...   \n",
       "8486  2024-10-09/Beelink1_20241009_020903_01.fit 2024-10-09 02:09:03     0   \n",
       "8487  2024-10-09/Beelink1_20241009_022403_01.fit 2024-10-09 02:24:03     0   \n",
       "8488  2024-10-09/Beelink1_20241009_023903_01.fit 2024-10-09 02:39:03     0   \n",
       "8489  2024-10-09/Beelink1_20241009_025403_01.fit 2024-10-09 02:54:03     0   \n",
       "8490  2024-10-09/Beelink1_20241009_030903_01.fit 2024-10-09 03:09:03     0   \n",
       "\n",
       "      burst  \n",
       "4351      0  \n",
       "4352      0  \n",
       "4353      0  \n",
       "4354      0  \n",
       "4355      0  \n",
       "...     ...  \n",
       "8486      0  \n",
       "8487      0  \n",
       "8488      0  \n",
       "8489      0  \n",
       "8490      0  \n",
       "\n",
       "[4140 rows x 4 columns]"
      ]
     },
     "execution_count": 3,
     "metadata": {},
     "output_type": "execute_result"
    }
   ],
   "source": [
    "cutoff_date = pd.to_datetime(\"2024-07-02 00:00:00\")\n",
    "after_summer_classifications = df[df['datetime'] > cutoff_date]\n",
    "\n",
    "after_summer_classifications"
   ]
  },
  {
   "cell_type": "code",
   "execution_count": 4,
   "metadata": {},
   "outputs": [],
   "source": [
    "after_summer_classifications.to_csv('labels_after_summer_classifications.csv', index=False)"
   ]
  },
  {
   "cell_type": "code",
   "execution_count": null,
   "metadata": {},
   "outputs": [],
   "source": []
  }
 ],
 "metadata": {
  "kernelspec": {
   "display_name": "Python 3",
   "language": "python",
   "name": "python3"
  },
  "language_info": {
   "codemirror_mode": {
    "name": "ipython",
    "version": 3
   },
   "file_extension": ".py",
   "mimetype": "text/x-python",
   "name": "python",
   "nbconvert_exporter": "python",
   "pygments_lexer": "ipython3",
   "version": "3.10.0"
  }
 },
 "nbformat": 4,
 "nbformat_minor": 2
}
